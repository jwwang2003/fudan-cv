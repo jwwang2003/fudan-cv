{
 "cells": [
  {
   "cell_type": "markdown",
   "id": "23ef1446",
   "metadata": {},
   "source": [
    "# Collect Submission - Zip + Generate PDF \n",
    "\n",
    "Run this notebook once you have completed all the other notebooks: `knn.ipynb`, `svm.ipynb`, `softmax.ipynb`, `two_layer_net.ipynb` and `features.ipynb`).\n",
    "\n",
    "It will:\n",
    "\n",
    "* Generate a zip file of your code (`.py` and `.ipynb`) called `a1_code_submission.zip`.\n",
    "* Convert all notebooks into a single PDF file called `a1_inline_submission.pdf`.\n",
    "\n",
    "If your submission for this step was successful, you should see the following display message:\n",
    "\n",
    "`### Done! Please submit a1_code_submission.zip and a1_inline_submission.pdf to Gradescope. ###`\n",
    "\n",
    "Make sure to download the zip and pdf file locally to your computer, then submit to Gradescope. Congrats on succesfully completing the assignment!"
   ]
  },
  {
   "cell_type": "code",
   "execution_count": 1,
   "id": "3059162b",
   "metadata": {},
   "outputs": [
    {
     "name": "stdout",
     "output_type": "stream",
     "text": [
      "Current working directory: /Users/neves_z/Downloads/assignment1\n",
      "Looking in indexes: https://pypi.tuna.tsinghua.edu.cn/simple\n",
      "Requirement already satisfied: PyPDF2 in /Users/neves_z/anaconda3/envs/huggingface/lib/python3.8/site-packages (3.0.1)\n",
      "Requirement already satisfied: typing_extensions>=3.10.0.0 in /Users/neves_z/anaconda3/envs/huggingface/lib/python3.8/site-packages (from PyPDF2) (4.6.2)\n",
      "### Zipping file ###\n",
      "### Creating PDFs ###\n",
      "Created PDF knn.pdf.\n",
      "Created PDF svm.pdf.\n",
      "Created PDF softmax.pdf.\n",
      "Created PDF two_layer_net.pdf.\n",
      "Created PDF features.pdf.\n",
      "### Done! Please submit a1_code_submission.zip and a1_inline_submission.pdf to Gradescope. ###\n",
      "### Done! Please submit a1_code_submission.zip and a1_inline_submission.pdf to Elearning. ###\n"
     ]
    }
   ],
   "source": [
    "import os\n",
    "import platform\n",
    "import subprocess\n",
    "\n",
    "# TODO: Enter the path of your local assignment folder.\n",
    "# Example: 'cs231n/assignments/assignment1/'\n",
    "FOLDERNAME = 'your/local/path/to/assignment1'\n",
    "\n",
    "assert FOLDERNAME is not None, \"[!] Enter the folder name.\"\n",
    "\n",
    "# Change to the local working directory\n",
    "os.chdir(FOLDERNAME)\n",
    "\n",
    "# Check the current working directory\n",
    "print(f\"Current working directory: {os.getcwd()}\")\n",
    "\n",
    "# Detect the operating system\n",
    "system_name = platform.system()\n",
    "\n",
    "# Provide installation instructions based on the operating system\n",
    "# if system_name == \"Linux\":\n",
    "#     print(\"You are on a Linux system. Installing necessary dependencies...\")\n",
    "#     # Install necessary dependencies for LaTeX on Linux\n",
    "#     subprocess.run(['sudo', 'apt-get', 'install', 'texlive-xetex', 'texlive-fonts-recommended', 'texlive-plain-generic'], check=True)\n",
    "\n",
    "# elif system_name == \"Darwin\":  # macOS is identified as 'Darwin'\n",
    "#     print(\"You are on a macOS system. Please install MacTeX if you haven't already.\")\n",
    "#     print(\"Run the following command to install MacTeX via Homebrew:\")\n",
    "#     print(\"brew install --cask mactex\")\n",
    "#     print(\"After installation, ensure you have added the path by running:\")\n",
    "#     print('export PATH=\"/Library/TeX/texbin:$PATH\"')\n",
    "    \n",
    "# elif system_name == \"Windows\":\n",
    "#     print(\"You are on a Windows system. Please install MikTeX if you haven't already.\")\n",
    "#     print(\"Download and install MikTeX from https://miktex.org/download\")\n",
    "    \n",
    "# else:\n",
    "#     print(f\"Operating system {system_name} is not recognized. Please manually install LaTeX.\")\n",
    "\n",
    "# Install PyPDF2 library for PDF handling\n",
    "subprocess.run(['pip', 'install', 'PyPDF2'], check=True)\n",
    "\n",
    "# Call your script to collect submission files (make sure you have collectSubmission.sh script)\n",
    "# You can modify the script to only collect the files you need\n",
    "if os.path.exists('collectSubmission.sh'):\n",
    "    subprocess.run(['bash', 'collectSubmission.sh'], check=True)\n",
    "else:\n",
    "    print(\"[!] collectSubmission.sh not found. Make sure it's in the assignment folder.\")\n",
    "\n",
    "print(\"### Done! Please submit a1_code_submission.zip and a1_inline_submission.pdf to Elearning. ###\")"
   ]
  }
 ],
 "metadata": {
  "kernelspec": {
   "display_name": "huggingface",
   "language": "python",
   "name": "python3"
  },
  "language_info": {
   "codemirror_mode": {
    "name": "ipython",
    "version": 3
   },
   "file_extension": ".py",
   "mimetype": "text/x-python",
   "name": "python",
   "nbconvert_exporter": "python",
   "pygments_lexer": "ipython3",
   "version": "3.8.18"
  }
 },
 "nbformat": 4,
 "nbformat_minor": 5
}
